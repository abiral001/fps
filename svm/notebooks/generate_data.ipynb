{
 "cells": [
  {
   "cell_type": "code",
   "execution_count": 1,
   "id": "8a7bfcf9-9bb4-4b01-8a3d-da72f63c5cfb",
   "metadata": {},
   "outputs": [],
   "source": [
    "import pandas as pd"
   ]
  },
  {
   "cell_type": "code",
   "execution_count": 2,
   "id": "240f4044-86b0-4206-9080-0d6172355772",
   "metadata": {},
   "outputs": [],
   "source": [
    "injected = pd.read_csv('anomaly_svm.csv')\n",
    "uninjected = pd.read_csv('anomaly_svm_no_injection.csv')"
   ]
  },
  {
   "cell_type": "code",
   "execution_count": 7,
   "id": "adbb778a-dd8e-43d6-8e89-79e93e30d4f9",
   "metadata": {},
   "outputs": [],
   "source": [
    "injected = injected.drop_duplicates()"
   ]
  },
  {
   "cell_type": "code",
   "execution_count": 9,
   "id": "7836a520-4253-4fd9-b63c-da7edeac223f",
   "metadata": {},
   "outputs": [],
   "source": [
    "uninjected = uninjected.drop_duplicates()"
   ]
  },
  {
   "cell_type": "code",
   "execution_count": 11,
   "id": "26fecc6c-213b-47ac-82ce-2a5811bb3030",
   "metadata": {},
   "outputs": [],
   "source": [
    "full = pd.concat([injected, uninjected], ignore_index = True)"
   ]
  },
  {
   "cell_type": "code",
   "execution_count": 15,
   "id": "63909a3d-8602-47da-9d16-8e2d884305a5",
   "metadata": {},
   "outputs": [],
   "source": [
    "full = full.drop_duplicates(subset = ['ci', 'intensity', 'type'])"
   ]
  },
  {
   "cell_type": "code",
   "execution_count": 17,
   "id": "61029fa2-0c92-4e39-b44b-41a9ad83344d",
   "metadata": {},
   "outputs": [],
   "source": [
    "full = full.sample(frac = 1).reset_index(drop = True)"
   ]
  },
  {
   "cell_type": "code",
   "execution_count": 19,
   "id": "779fb525-1d82-45dd-8703-36c8d1b71772",
   "metadata": {},
   "outputs": [],
   "source": [
    "full.to_csv('svm_training.csv', index = False)"
   ]
  },
  {
   "cell_type": "code",
   "execution_count": null,
   "id": "50f71afd-6237-4d00-b9c8-00894366d609",
   "metadata": {},
   "outputs": [],
   "source": []
  }
 ],
 "metadata": {
  "kernelspec": {
   "display_name": "Python 3 (ipykernel)",
   "language": "python",
   "name": "python3"
  },
  "language_info": {
   "codemirror_mode": {
    "name": "ipython",
    "version": 3
   },
   "file_extension": ".py",
   "mimetype": "text/x-python",
   "name": "python",
   "nbconvert_exporter": "python",
   "pygments_lexer": "ipython3",
   "version": "3.10.13"
  }
 },
 "nbformat": 4,
 "nbformat_minor": 5
}
