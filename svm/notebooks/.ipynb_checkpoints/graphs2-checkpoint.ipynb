{
 "cells": [
  {
   "cell_type": "code",
   "execution_count": 1,
   "id": "89ff948a-eadc-4852-9f6d-a964db853ba8",
   "metadata": {},
   "outputs": [],
   "source": [
    "import pandas as pd"
   ]
  },
  {
   "cell_type": "code",
   "execution_count": 2,
   "id": "5a5b51db-24e4-4aa2-80e9-6f56a040a39e",
   "metadata": {},
   "outputs": [],
   "source": [
    "injected = pd.read_csv('injection_prediction.csv')\n",
    "uninjected = pd.read_csv('no_injection_prediction.csv')"
   ]
  },
  {
   "cell_type": "code",
   "execution_count": 3,
   "id": "efa5de69-4828-4b8d-aa57-c46433167433",
   "metadata": {},
   "outputs": [],
   "source": [
    "injected = injected.drop_duplicates()\n",
    "uninjected = uninjected.drop_duplicates()"
   ]
  },
  {
   "cell_type": "code",
   "execution_count": 5,
   "id": "c597ce90-4d35-494f-96ff-00b919e14523",
   "metadata": {},
   "outputs": [],
   "source": [
    "full = pd.concat([injected, uninjected], ignore_index = True)"
   ]
  },
  {
   "cell_type": "code",
   "execution_count": 7,
   "id": "b7d77caa-33a9-43e1-ba86-410b8ace270f",
   "metadata": {},
   "outputs": [],
   "source": [
    "full = full.drop_duplicates(subset = ['ci', 'intensity', 'type', 'localization'])"
   ]
  },
  {
   "cell_type": "code",
   "execution_count": 9,
   "id": "acf93cc9-3f54-4e9f-984a-54e489bbe18b",
   "metadata": {},
   "outputs": [
    {
     "name": "stderr",
     "output_type": "stream",
     "text": [
      "/tmp/ipykernel_333101/3381592889.py:23: UserWarning: Matplotlib is currently using agg, which is a non-GUI backend, so cannot show the figure.\n",
      "  plt.show()\n"
     ]
    }
   ],
   "source": [
    "# generating training heatmap\n",
    "import matplotlib.pyplot as plt\n",
    "import seaborn as sns\n",
    "import matplotlib\n",
    "matplotlib.use(\"Agg\")\n",
    "\n",
    "req = full[full['anomaly'] == True]\n",
    "req = req[['intensity', 'type', 'ci']]\n",
    "req['intensity'] = req['intensity']/16\n",
    "req['ci_category'] = req['ci'].round(decimals=3)\n",
    "bins = [1.1, 1.2, 1.3, 1.4, 1.5, 1.6, 1.7, 1.8, 1.9, float('inf')]\n",
    "labels = ['T1', 'T2', 'T3', 'T4', 'T5', 'T6', 'T7', 'T8', 'T9']\n",
    "req['timeline'] = pd.cut(req['ci_category'], bins = bins, labels=labels).astype('string').fillna('T0')\n",
    "\n",
    "req = req.drop(columns = ['ci', 'ci_category'])\n",
    "req['timeline'] = pd.Categorical(req['timeline'], categories=['T0', 'T1', 'T2', 'T3', 'T4', 'T5', 'T6', 'T7', 'T8', 'T9', 'T10'], ordered=True)\n",
    "heatmap_data = req.pivot_table(index='type', columns='timeline', values = 'intensity', aggfunc = 'mean')\n",
    "plt.figure(figsize=(10, 8))\n",
    "sns.heatmap(heatmap_data, annot =True, cmap = 'coolwarm')\n",
    "plt.xlabel('Intensity')\n",
    "plt.ylabel('Type')\n",
    "plt.savefig('eval_distribution.png')\n",
    "plt.show()"
   ]
  },
  {
   "cell_type": "code",
   "execution_count": null,
   "id": "dfbfecd6-82ac-45fd-a9ff-b5c6d43fb46a",
   "metadata": {},
   "outputs": [],
   "source": [
    "#FPR and TPR\n"
   ]
  }
 ],
 "metadata": {
  "kernelspec": {
   "display_name": "Python 3 (ipykernel)",
   "language": "python",
   "name": "python3"
  },
  "language_info": {
   "codemirror_mode": {
    "name": "ipython",
    "version": 3
   },
   "file_extension": ".py",
   "mimetype": "text/x-python",
   "name": "python",
   "nbconvert_exporter": "python",
   "pygments_lexer": "ipython3",
   "version": "3.10.13"
  }
 },
 "nbformat": 4,
 "nbformat_minor": 5
}
