{
 "cells": [
  {
   "cell_type": "code",
   "execution_count": 1,
   "id": "89ff948a-eadc-4852-9f6d-a964db853ba8",
   "metadata": {},
   "outputs": [],
   "source": [
    "import pandas as pd"
   ]
  },
  {
   "cell_type": "code",
   "execution_count": 2,
   "id": "5a5b51db-24e4-4aa2-80e9-6f56a040a39e",
   "metadata": {},
   "outputs": [],
   "source": [
    "injected = pd.read_csv('injection_prediction.csv')\n",
    "uninjected = pd.read_csv('no_injection_prediction.csv')"
   ]
  },
  {
   "cell_type": "code",
   "execution_count": 3,
   "id": "efa5de69-4828-4b8d-aa57-c46433167433",
   "metadata": {},
   "outputs": [],
   "source": [
    "injected = injected.drop_duplicates()\n",
    "uninjected = uninjected.drop_duplicates()"
   ]
  },
  {
   "cell_type": "code",
   "execution_count": 4,
   "id": "c597ce90-4d35-494f-96ff-00b919e14523",
   "metadata": {},
   "outputs": [],
   "source": [
    "full = pd.concat([injected, uninjected], ignore_index = True)"
   ]
  },
  {
   "cell_type": "code",
   "execution_count": 5,
   "id": "b7d77caa-33a9-43e1-ba86-410b8ace270f",
   "metadata": {},
   "outputs": [],
   "source": [
    "full = full.drop_duplicates(subset = ['ci', 'intensity', 'type', 'localization'])"
   ]
  },
  {
   "cell_type": "code",
   "execution_count": null,
   "id": "acf93cc9-3f54-4e9f-984a-54e489bbe18b",
   "metadata": {},
   "outputs": [],
   "source": [
    "# generating training heatmap\n",
    "import matplotlib.pyplot as plt\n",
    "import seaborn as sns\n",
    "import matplotlib\n",
    "matplotlib.use(\"Agg\")\n",
    "\n",
    "req = full[full['anomaly'] == True]\n",
    "req = req[['intensity', 'type', 'ci']]\n",
    "req['intensity'] = req['intensity']/16\n",
    "req['ci_category'] = req['ci'].round(decimals=3)\n",
    "bins = [1.1, 1.2, 1.3, 1.4, 1.5, 1.6, 1.7, 1.8, 1.9, float('inf')]\n",
    "labels = ['T1', 'T2', 'T3', 'T4', 'T5', 'T6', 'T7', 'T8', 'T9']\n",
    "req['timeline'] = pd.cut(req['ci_category'], bins = bins, labels=labels).astype('string').fillna('T0')\n",
    "\n",
    "req = req.drop(columns = ['ci', 'ci_category'])\n",
    "req['timeline'] = pd.Categorical(req['timeline'], categories=['T0', 'T1', 'T2', 'T3', 'T4', 'T5', 'T6', 'T7', 'T8', 'T9', 'T10'], ordered=True)\n",
    "heatmap_data = req.pivot_table(index='type', columns='timeline', values = 'intensity', aggfunc = 'mean')\n",
    "plt.figure(figsize=(10, 8))\n",
    "sns.heatmap(heatmap_data, annot =True, cmap = 'coolwarm')\n",
    "plt.xlabel('Intensity')\n",
    "plt.ylabel('Type')\n",
    "plt.savefig('eval_distribution.png')\n",
    "plt.show()"
   ]
  },
  {
   "cell_type": "code",
   "execution_count": 6,
   "id": "dfbfecd6-82ac-45fd-a9ff-b5c6d43fb46a",
   "metadata": {},
   "outputs": [],
   "source": [
    "#FPR and TPR\n",
    "from sklearn.metrics import roc_curve, auc\n",
    "import matplotlib.pyplot as plt\n",
    "import matplotlib\n",
    "# matplotlib.use('Agg')"
   ]
  },
  {
   "cell_type": "code",
   "execution_count": null,
   "id": "0a624f42-9440-44e5-83dd-555e1acd0bf6",
   "metadata": {},
   "outputs": [],
   "source": [
    "full['ground_truth'] = full['anomaly'] | full['localization']\n",
    "fpr_anomaly, tpr_anomaly, _ = roc_curve(full['ground_truth'], full['anomaly'])\n",
    "roc_auc_anomaly = auc(fpr_anomaly, tpr_anomaly)\n",
    "fpr_localization, tpr_localization, _ = roc_curve(full['ground_truth'], full['localization'])\n",
    "roc_auc_localization = auc(fpr_localization, tpr_localization)"
   ]
  },
  {
   "cell_type": "code",
   "execution_count": null,
   "id": "23956827-2f1d-4cef-9a33-1f3c26238116",
   "metadata": {},
   "outputs": [],
   "source": [
    "plt.figure(figsize=(8, 6))\n",
    "plt.plot(fpr_anomaly, tpr_anomaly, color='darkorange', lw=2, label='Anomaly ROC curve (area = {:.2f})'.format(roc_auc_anomaly))\n",
    "plt.plot(fpr_localization, tpr_localization, color='navy', lw=2, label='Localization ROC curve (area = {:.2f})'.format(roc_auc_localization))\n",
    "plt.plot([0, 1], [0, 1], color='gray', lw=1, linestyle='--')\n",
    "plt.xlim([-0.01, 1.0])\n",
    "plt.ylim([-0.01, 1.0])\n",
    "plt.xlabel('False Positive Rate')\n",
    "plt.ylabel('True Positive Rate')\n",
    "plt.legend(loc=\"lower right\")\n",
    "plt.savefig('TPR vs FPR.png')\n",
    "plt.show()"
   ]
  },
  {
   "cell_type": "code",
   "execution_count": 10,
   "id": "fe379d1a-7c58-40f8-bbbb-eeb646c50778",
   "metadata": {},
   "outputs": [
    {
     "data": {
      "image/png": "[encoded data removed]",
      "text/plain": [
       "<Figure size 800x600 with 1 Axes>"
      ]
     },
     "metadata": {},
     "output_type": "display_data"
    }
   ],
   "source": [
    "#CDF\n",
    "import numpy as np\n",
    "df_sorted = full.sort_values(by='anomaly')\n",
    "\n",
    "# Calculate the CDF\n",
    "total_points = len(df_sorted)\n",
    "cdf = np.arange(1, total_points + 1) / total_points\n",
    "\n",
    "# Plotting\n",
    "plt.figure(figsize=(8, 6))\n",
    "plt.plot(df_sorted['anomaly'], cdf, label='CDF')\n",
    "plt.xlabel('Anomaly')\n",
    "plt.ylabel('Cumulative Probability')\n",
    "plt.legend()\n",
    "plt.grid(True)\n",
    "plt.savefig('CDF.png')\n",
    "plt.show()"
   ]
  },
  {
   "cell_type": "code",
   "execution_count": null,
   "id": "64508afd-071f-4ebd-b0ea-14826cc418ad",
   "metadata": {},
   "outputs": [],
   "source": []
  }
 ],
 "metadata": {
  "kernelspec": {
   "display_name": "Python 3 (ipykernel)",
   "language": "python",
   "name": "python3"
  },
  "language_info": {
   "codemirror_mode": {
    "name": "ipython",
    "version": 3
   },
   "file_extension": ".py",
   "mimetype": "text/x-python",
   "name": "python",
   "nbconvert_exporter": "python",
   "pygments_lexer": "ipython3",
   "version": "3.10.13"
  }
 },
 "nbformat": 4,
 "nbformat_minor": 5
}
