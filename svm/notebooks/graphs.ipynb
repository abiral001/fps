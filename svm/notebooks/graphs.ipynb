{
 "cells": [
  {
   "cell_type": "code",
   "execution_count": 91,
   "id": "5cc22f92-31af-4532-8882-a4888a64469e",
   "metadata": {},
   "outputs": [],
   "source": [
    "import pandas as pd\n",
    "import matplotlib.pyplot as plt\n",
    "import seaborn as sns\n",
    "import matplotlib\n",
    "matplotlib.use(\"Agg\")"
   ]
  },
  {
   "cell_type": "code",
   "execution_count": 92,
   "id": "4095464d-6da9-42e0-8058-88fda9314c83",
   "metadata": {},
   "outputs": [],
   "source": [
    "data = pd.read_csv('svm_training.csv')"
   ]
  },
  {
   "cell_type": "code",
   "execution_count": 93,
   "id": "6ad9bbd1-1269-44a7-8112-aca24d3983df",
   "metadata": {},
   "outputs": [],
   "source": [
    "# generating training heatmap\n",
    "req = data[data['anomaly'] == True]\n",
    "req = req[['intensity', 'type', 'ci']]\n",
    "req['intensity'] = req['intensity']/16\n",
    "req['ci_category'] = req['ci'].round(decimals=3)\n",
    "bins = [1.1, 1.2, 1.3, 1.4, 1.5, 1.6, 1.7, 1.8, 1.9, float('inf')]\n",
    "labels = ['T1', 'T2', 'T3', 'T4', 'T5', 'T6', 'T7', 'T8', 'T9']\n",
    "req['timeline'] = pd.cut(req['ci_category'], bins = bins, labels=labels).astype('string').fillna('T0')"
   ]
  },
  {
   "cell_type": "code",
   "execution_count": 94,
   "id": "5177da35-b786-4d91-b383-0b24d0baf468",
   "metadata": {},
   "outputs": [],
   "source": [
    "req = req.drop(columns = ['ci', 'ci_category'])\n",
    "req['timeline'] = pd.Categorical(req['timeline'], categories=['T0', 'T1', 'T2', 'T3', 'T4', 'T5', 'T6', 'T7', 'T8', 'T9', 'T10'], ordered=True)"
   ]
  },
  {
   "cell_type": "code",
   "execution_count": 95,
   "id": "fc4a5fb1-cfe3-4ae9-9c4d-8ccb89b1a0aa",
   "metadata": {},
   "outputs": [
    {
     "name": "stdout",
     "output_type": "stream",
     "text": [
      "<class 'pandas.core.frame.DataFrame'>\n",
      "Index: 8380 entries, 1 to 14266\n",
      "Data columns (total 3 columns):\n",
      " #   Column     Non-Null Count  Dtype   \n",
      "---  ------     --------------  -----   \n",
      " 0   intensity  8380 non-null   float64 \n",
      " 1   type       8380 non-null   object  \n",
      " 2   timeline   8380 non-null   category\n",
      "dtypes: category(1), float64(1), object(1)\n",
      "memory usage: 205.0+ KB\n"
     ]
    }
   ],
   "source": [
    "req.info()"
   ]
  },
  {
   "cell_type": "code",
   "execution_count": 96,
   "id": "05857be1-52fa-404f-b983-6785ecd3b678",
   "metadata": {},
   "outputs": [],
   "source": [
    "heatmap_data = req.pivot_table(index='type', columns='timeline', values = 'intensity', aggfunc = 'mean')"
   ]
  },
  {
   "cell_type": "code",
   "execution_count": 97,
   "id": "f31ec0c3-e392-4036-a319-3c12625c65c5",
   "metadata": {},
   "outputs": [
    {
     "data": {
      "text/html": [
       "<div>\n",
       "<style scoped>\n",
       "    .dataframe tbody tr th:only-of-type {\n",
       "        vertical-align: middle;\n",
       "    }\n",
       "\n",
       "    .dataframe tbody tr th {\n",
       "        vertical-align: top;\n",
       "    }\n",
       "\n",
       "    .dataframe thead th {\n",
       "        text-align: right;\n",
       "    }\n",
       "</style>\n",
       "<table border=\"1\" class=\"dataframe\">\n",
       "  <thead>\n",
       "    <tr style=\"text-align: right;\">\n",
       "      <th>timeline</th>\n",
       "      <th>T0</th>\n",
       "      <th>T1</th>\n",
       "      <th>T2</th>\n",
       "      <th>T3</th>\n",
       "      <th>T4</th>\n",
       "      <th>T5</th>\n",
       "      <th>T6</th>\n",
       "      <th>T7</th>\n",
       "      <th>T8</th>\n",
       "      <th>T9</th>\n",
       "    </tr>\n",
       "    <tr>\n",
       "      <th>type</th>\n",
       "      <th></th>\n",
       "      <th></th>\n",
       "      <th></th>\n",
       "      <th></th>\n",
       "      <th></th>\n",
       "      <th></th>\n",
       "      <th></th>\n",
       "      <th></th>\n",
       "      <th></th>\n",
       "      <th></th>\n",
       "    </tr>\n",
       "  </thead>\n",
       "  <tbody>\n",
       "    <tr>\n",
       "      <th>cpu</th>\n",
       "      <td>0.706349</td>\n",
       "      <td>0.677912</td>\n",
       "      <td>0.664187</td>\n",
       "      <td>0.634507</td>\n",
       "      <td>0.643626</td>\n",
       "      <td>0.647169</td>\n",
       "      <td>0.611584</td>\n",
       "      <td>0.572877</td>\n",
       "      <td>0.574755</td>\n",
       "      <td>0.533065</td>\n",
       "    </tr>\n",
       "    <tr>\n",
       "      <th>io</th>\n",
       "      <td>0.665064</td>\n",
       "      <td>0.703301</td>\n",
       "      <td>0.709790</td>\n",
       "      <td>0.691604</td>\n",
       "      <td>0.706656</td>\n",
       "      <td>0.688742</td>\n",
       "      <td>0.701018</td>\n",
       "      <td>0.732021</td>\n",
       "      <td>0.775000</td>\n",
       "      <td>0.648975</td>\n",
       "    </tr>\n",
       "    <tr>\n",
       "      <th>memory</th>\n",
       "      <td>0.457849</td>\n",
       "      <td>0.451562</td>\n",
       "      <td>0.449640</td>\n",
       "      <td>0.468528</td>\n",
       "      <td>0.495025</td>\n",
       "      <td>0.480263</td>\n",
       "      <td>0.466588</td>\n",
       "      <td>0.503178</td>\n",
       "      <td>0.375000</td>\n",
       "      <td>0.522173</td>\n",
       "    </tr>\n",
       "  </tbody>\n",
       "</table>\n",
       "</div>"
      ],
      "text/plain": [
       "timeline        T0        T1        T2        T3        T4        T5  \\\n",
       "type                                                                   \n",
       "cpu       0.706349  0.677912  0.664187  0.634507  0.643626  0.647169   \n",
       "io        0.665064  0.703301  0.709790  0.691604  0.706656  0.688742   \n",
       "memory    0.457849  0.451562  0.449640  0.468528  0.495025  0.480263   \n",
       "\n",
       "timeline        T6        T7        T8        T9  \n",
       "type                                              \n",
       "cpu       0.611584  0.572877  0.574755  0.533065  \n",
       "io        0.701018  0.732021  0.775000  0.648975  \n",
       "memory    0.466588  0.503178  0.375000  0.522173  "
      ]
     },
     "execution_count": 97,
     "metadata": {},
     "output_type": "execute_result"
    }
   ],
   "source": [
    "heatmap_data"
   ]
  },
  {
   "cell_type": "code",
   "execution_count": 98,
   "id": "f4011209-104b-494c-b143-d89589706348",
   "metadata": {},
   "outputs": [
    {
     "data": {
      "text/plain": [
       "Text(95.72222222222221, 0.5, 'Type')"
      ]
     },
     "execution_count": 98,
     "metadata": {},
     "output_type": "execute_result"
    }
   ],
   "source": [
    "plt.figure(figsize=(10, 8))\n",
    "sns.heatmap(heatmap_data, annot =True, cmap = 'coolwarm')\n",
    "plt.xlabel('Intensity')\n",
    "plt.ylabel('Type')"
   ]
  },
  {
   "cell_type": "code",
   "execution_count": 99,
   "id": "5ac482cb-bfa8-4abf-a27f-1a26d7410c34",
   "metadata": {},
   "outputs": [],
   "source": [
    "plt.savefig('training_distribution.png')"
   ]
  },
  {
   "cell_type": "code",
   "execution_count": null,
   "id": "e4468969-b2ce-4754-8ce7-512b2c8b8062",
   "metadata": {},
   "outputs": [],
   "source": []
  }
 ],
 "metadata": {
  "kernelspec": {
   "display_name": "Python 3 (ipykernel)",
   "language": "python",
   "name": "python3"
  },
  "language_info": {
   "codemirror_mode": {
    "name": "ipython",
    "version": 3
   },
   "file_extension": ".py",
   "mimetype": "text/x-python",
   "name": "python",
   "nbconvert_exporter": "python",
   "pygments_lexer": "ipython3",
   "version": "3.10.13"
  }
 },
 "nbformat": 4,
 "nbformat_minor": 5
}
